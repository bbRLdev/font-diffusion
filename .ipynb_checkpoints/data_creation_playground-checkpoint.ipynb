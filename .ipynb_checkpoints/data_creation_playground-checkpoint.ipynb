{
 "cells": [
  {
   "cell_type": "code",
   "execution_count": 1,
   "metadata": {},
   "outputs": [
    {
     "name": "stdout",
     "output_type": "stream",
     "text": [
      "/work/08823/msrodlab/maverick2/font-diffusion\r\n"
     ]
    }
   ],
   "source": [
    "! pwd\n",
    "!pip install -r ./requirements.txt"
   ]
  },
  {
   "cell_type": "markdown",
   "metadata": {},
   "source": [
    "# Dataset creation. Run during first time setup"
   ]
  },
  {
   "cell_type": "code",
   "execution_count": 2,
   "metadata": {
    "colab": {
     "base_uri": "https://localhost:8080/"
    },
    "id": "yI-JEVVPUxhQ",
    "outputId": "548bbe3e-42b9-4a07-f874-d57592a44785"
   },
   "outputs": [],
   "source": [
    "from data_creator import get_font_ttfs, create_alphabet_for_each_ttf, create_dataset"
   ]
  },
  {
   "cell_type": "code",
   "execution_count": 3,
   "metadata": {},
   "outputs": [
    {
     "data": {
      "application/vnd.jupyter.widget-view+json": {
       "model_id": "55132c6e2b044265ae601159e8166c33",
       "version_major": 2,
       "version_minor": 0
      },
      "text/plain": [
       "0it [00:00, ?it/s]"
      ]
     },
     "metadata": {},
     "output_type": "display_data"
    }
   ],
   "source": [
    "get_font_ttfs()"
   ]
  },
  {
   "cell_type": "code",
   "execution_count": 2,
   "metadata": {},
   "outputs": [
    {
     "name": "stdout",
     "output_type": "stream",
     "text": [
      "Razing\n",
      "Military Poster\n",
      "JMH Typewriter\n",
      "No Virus\n",
      "Who asks Satan\n",
      "FoieCanape\n",
      "Dunkirk\n",
      "Seagram tfb\n",
      "Babiole\n",
      "OldNewspaperTypes\n",
      "Short Stack\n",
      "Deutsch Gothic\n",
      "LaIzzIerComiC\n",
      "Vogue\n",
      "Espen Comics\n",
      "Mandrake FF\n",
      "The Kids Mraker\n",
      "Canted Comic\n",
      "Ambambo\n",
      "Nexa\n",
      "Blueto\n",
      "Handwriting\n",
      "Rocket Mission\n",
      "a Anti Corona\n",
      "Tabby - Personal Use\n",
      "MiTica\n",
      "gsmfont\n",
      "Akira Expanded\n",
      "Edson_Comics_Bold\n",
      "Riesling\n",
      "LeArchitect\n",
      "Topuz\n",
      "Coyotris Comic\n",
      "Indernik_Charcoal\n",
      "Nathaniel-19\n",
      "Ducky\n",
      "Verve\n",
      "Asteristico\n",
      "armfight\n",
      "Koshari\n",
      "Onion Rocks\n",
      "Mulled Wine Season\n",
      "Wash Your Hand\n",
      "Edition\n",
      "WOODCUTTER ARMY (Stencil)\n",
      "Bodoni Fragile\n",
      "OlivesLight\n",
      "ByronRecCon\n",
      "Komikula\n",
      "LT Crafted\n",
      "Fette National Fraktur\n",
      "Sakura Town Demo\n",
      "Knobber\n",
      "DCC - Anatolia Strong\n",
      "Brandon Bromley\n",
      "RetroGaming\n",
      "Couture\n",
      "Mufferaw\n",
      "DCC - Dreamer\n",
      "The Alphabet\n",
      "Mucky Sans\n",
      "QuickAsABunny\n",
      "Comic Note Smooth\n",
      "Ohio Collegiate\n",
      "Alphakind\n",
      "King Arthur Legend\n",
      "Comic Helvetic\n",
      "Spork\n",
      "mie aceh\n",
      "AmazGoDaBold\n",
      "FuturaHandwritten\n",
      "Kaph\n",
      "Monicacomic\n",
      "Rundeck\n",
      "I.F.C. HARDBALL \n",
      "Alex Toth\n",
      "SnapHand\n",
      "Cardigan Titling\n",
      "Polsyh\n",
      "Funiko\n",
      "Pulang\n",
      "Enchanted Land\n",
      "Louis George Cafe Light\n",
      "LT Woodchuck\n",
      "JWerd\n",
      "Mario Party Hudson\n",
      "Comica Regular\n",
      "Pak Kumis\n",
      "a Art Paper\n",
      "Canted FX\n",
      "Nightside Demo\n",
      "Caviar Dreams\n",
      "Brocades Sans\n",
      "Bronkos\n",
      "College\n",
      "Comic Shark\n",
      "Handgoal\n",
      "RUSAK\n",
      "Aaron Sans\n",
      "Palamecia Titling\n",
      "Steiner\n",
      "NewYork\n",
      "Sonic Comics\n",
      "Loded Diper\n",
      "DS-Digital\n",
      "Meonk Plans\n",
      "Childscribble By Reka\n",
      "Gargle\n",
      "Blitz\n",
      "Keep on Truckin\n",
      "Bakso Sapi\n",
      "Coconut House\n",
      "000_INSOMNIAC_COMIC_DIALOGUE\n",
      "Simallos\n",
      "Scholar E\n",
      "OlivessansPimientoLight\n",
      "HD DOODLE\n",
      "Indie Komiks Sketch\n",
      "Brantone\n",
      "Stop Bullying\n",
      "Rondouillard\n",
      "BubbleDub\n",
      "AmateurComic\n",
      "Om Botak\n",
      "a Anggota\n",
      "Smilecomix\n",
      "northern army\n",
      "Gameplay\n",
      "CreatiCredad\n",
      "Virus Killer\n",
      "Designer\n",
      "SUGARE\n",
      "DCC - Anatolia Clasic\n",
      "Si Kancil\n",
      "WetinCaroWant\n",
      "Komika Boo\n",
      "Jersey M54\n",
      "HelvetiHand\n",
      "Hey Haters\n",
      "Roller\n",
      "Widound\n",
      "Tahtelbahir komik\n",
      "Bodo Amat\n",
      "theDood\n",
      "Reshuffle Sans\n",
      "Extended Play\n",
      "Chekharda\n",
      "Carista\n",
      "Ninjos\n",
      "Jreeng\n",
      "Pamit\n",
      "Wanted M54\n",
      "DCC - Scisor\n",
      "I Learn From Wall\n",
      "Komika Parch\n",
      "Space Crusaders\n",
      "Ukulele\n",
      "Bad Comic\n",
      "Kemco Pixel\n",
      "Suburbana\n",
      "Seductive Height (Demo)\n",
      "Burbin Casual NC\n",
      "Gorski\n",
      "TT Ricordi Trial\n",
      "Wolfganger\n",
      "comix-pro-2\n",
      "Loosey Sans\n",
      "Melon hunter\n",
      "Jaya Baru\n",
      "Hard Fox\n",
      "NO NAZIS\n",
      "Ardies\n",
      "Homer Simpson Revised\n",
      "a Abstract Groovy\n",
      "Like Snow\n",
      "Bocah\n",
      "Krunch\n",
      "Azonix\n",
      "Single Sleeve\n",
      "Terav\n",
      "Digital Play St\n",
      "Roboto\n",
      "Invasion2000\n",
      "Octin Prison\n",
      "Help Me\n",
      "Dion\n",
      "Comic Note\n",
      "Stanberry\n",
      "Punishment\n",
      "Smack Typographik\n",
      "Modern Prestige DEMO\n",
      "MBBlockType\n",
      "WOODCUTTER simple font\n",
      "Destink Warp\n",
      "Halfway\n",
      "Seagull Wine\n",
      "Rayman 2\n",
      "Gamejot\n",
      "Kimmun\n",
      "Kaiju Monster__G\n",
      "onthemove\n",
      "Badaga\n",
      "Danger Diabolik\n",
      "TT Backwards Sans Trial\n",
      "Hanstoc Script PERSONAL USE\n",
      "Apasih\n",
      "Nixie One\n",
      "Anime Inept\n"
     ]
    }
   ],
   "source": [
    "# shouldnt run this on TACC, best to scp the files from your own computer\n",
    "# scp localhost/font-diffusion/font-images.tar <your_user>@maverick2.tacc.utexas.edu:\\$WORK/font-diffusion\n",
    "create_alphabet_for_each_ttf()"
   ]
  },
  {
   "cell_type": "code",
   "execution_count": 4,
   "metadata": {},
   "outputs": [
    {
     "ename": "ImportError",
     "evalue": "The _imagingft C module is not installed",
     "output_type": "error",
     "traceback": [
      "\u001b[0;31m---------------------------------------------------------------------------\u001b[0m",
      "\u001b[0;31mImportError\u001b[0m                               Traceback (most recent call last)",
      "\u001b[0;32m<ipython-input-4-e69a2dc70173>\u001b[0m in \u001b[0;36m<module>\u001b[0;34m\u001b[0m\n\u001b[0;32m----> 1\u001b[0;31m \u001b[0mcreate_dataset\u001b[0m\u001b[0;34m(\u001b[0m\u001b[0;34m)\u001b[0m\u001b[0;34m\u001b[0m\u001b[0m\n\u001b[0m",
      "\u001b[0;32m/work/08823/msrodlab/maverick2/font-diffusion/data_creator.py\u001b[0m in \u001b[0;36mcreate_dataset\u001b[0;34m()\u001b[0m\n\u001b[1;32m    132\u001b[0m     \u001b[0;32mfor\u001b[0m \u001b[0midx\u001b[0m\u001b[0;34m,\u001b[0m \u001b[0mrow_data\u001b[0m \u001b[0;32min\u001b[0m \u001b[0mdf\u001b[0m\u001b[0;34m.\u001b[0m\u001b[0miterrows\u001b[0m\u001b[0;34m(\u001b[0m\u001b[0;34m)\u001b[0m\u001b[0;34m:\u001b[0m\u001b[0;34m\u001b[0m\u001b[0m\n\u001b[1;32m    133\u001b[0m         \u001b[0mttf_path\u001b[0m \u001b[0;34m=\u001b[0m \u001b[0mos\u001b[0m\u001b[0;34m.\u001b[0m\u001b[0mpath\u001b[0m\u001b[0;34m.\u001b[0m\u001b[0mjoin\u001b[0m\u001b[0;34m(\u001b[0m\u001b[0mTTF_PATH\u001b[0m\u001b[0;34m,\u001b[0m \u001b[0mrow_data\u001b[0m\u001b[0;34m[\u001b[0m\u001b[0;34m'Filename'\u001b[0m\u001b[0;34m]\u001b[0m\u001b[0;34m)\u001b[0m\u001b[0;34m\u001b[0m\u001b[0m\n\u001b[0;32m--> 134\u001b[0;31m         \u001b[0mfont_img_dir\u001b[0m \u001b[0;34m=\u001b[0m \u001b[0mFontPreview\u001b[0m\u001b[0;34m(\u001b[0m\u001b[0mttf_path\u001b[0m\u001b[0;34m)\u001b[0m\u001b[0;34m.\u001b[0m\u001b[0mfont\u001b[0m\u001b[0;34m.\u001b[0m\u001b[0mgetname\u001b[0m\u001b[0;34m(\u001b[0m\u001b[0;34m)\u001b[0m\u001b[0;34m[\u001b[0m\u001b[0;36m0\u001b[0m\u001b[0;34m]\u001b[0m\u001b[0;34m\u001b[0m\u001b[0m\n\u001b[0m\u001b[1;32m    135\u001b[0m         \u001b[0mfont_img_dir\u001b[0m \u001b[0;34m=\u001b[0m \u001b[0mos\u001b[0m\u001b[0;34m.\u001b[0m\u001b[0mpath\u001b[0m\u001b[0;34m.\u001b[0m\u001b[0mjoin\u001b[0m\u001b[0;34m(\u001b[0m\u001b[0mFONT_IMAGE_PATH\u001b[0m\u001b[0;34m,\u001b[0m \u001b[0mfont_img_dir\u001b[0m\u001b[0;34m)\u001b[0m\u001b[0;34m\u001b[0m\u001b[0m\n\u001b[1;32m    136\u001b[0m         \u001b[0mfont_img_paths\u001b[0m \u001b[0;34m=\u001b[0m \u001b[0;34m[\u001b[0m\u001b[0mos\u001b[0m\u001b[0;34m.\u001b[0m\u001b[0mpath\u001b[0m\u001b[0;34m.\u001b[0m\u001b[0mjoin\u001b[0m\u001b[0;34m(\u001b[0m\u001b[0mfont_img_dir\u001b[0m\u001b[0;34m,\u001b[0m \u001b[0mfname\u001b[0m\u001b[0;34m)\u001b[0m \u001b[0;32mfor\u001b[0m \u001b[0mfname\u001b[0m \u001b[0;32min\u001b[0m \u001b[0mos\u001b[0m\u001b[0;34m.\u001b[0m\u001b[0mlistdir\u001b[0m\u001b[0;34m(\u001b[0m\u001b[0mfont_img_dir\u001b[0m\u001b[0;34m)\u001b[0m\u001b[0;34m]\u001b[0m\u001b[0;34m\u001b[0m\u001b[0m\n",
      "\u001b[0;32m~/.local/lib/python3.7/site-packages/fontpreview/fontpreview.py\u001b[0m in \u001b[0;36m__init__\u001b[0;34m(self, font, font_size, font_text, color_system, bg_color, fg_color, dimension)\u001b[0m\n\u001b[1;32m     72\u001b[0m         \u001b[0mself\u001b[0m\u001b[0;34m.\u001b[0m\u001b[0mfont_size\u001b[0m \u001b[0;34m=\u001b[0m \u001b[0mfont_size\u001b[0m\u001b[0;34m\u001b[0m\u001b[0m\n\u001b[1;32m     73\u001b[0m         \u001b[0mself\u001b[0m\u001b[0;34m.\u001b[0m\u001b[0mfont_text\u001b[0m \u001b[0;34m=\u001b[0m \u001b[0mfont_text\u001b[0m\u001b[0;34m\u001b[0m\u001b[0m\n\u001b[0;32m---> 74\u001b[0;31m         \u001b[0mself\u001b[0m\u001b[0;34m.\u001b[0m\u001b[0mfont\u001b[0m \u001b[0;34m=\u001b[0m \u001b[0mImageFont\u001b[0m\u001b[0;34m.\u001b[0m\u001b[0mtruetype\u001b[0m\u001b[0;34m(\u001b[0m\u001b[0mfont\u001b[0m\u001b[0;34m=\u001b[0m\u001b[0mfont\u001b[0m\u001b[0;34m,\u001b[0m \u001b[0msize\u001b[0m\u001b[0;34m=\u001b[0m\u001b[0mself\u001b[0m\u001b[0;34m.\u001b[0m\u001b[0mfont_size\u001b[0m\u001b[0;34m)\u001b[0m\u001b[0;34m\u001b[0m\u001b[0m\n\u001b[0m\u001b[1;32m     75\u001b[0m         \u001b[0mself\u001b[0m\u001b[0;34m.\u001b[0m\u001b[0mcolor_system\u001b[0m \u001b[0;34m=\u001b[0m \u001b[0mcolor_system\u001b[0m\u001b[0;34m\u001b[0m\u001b[0m\n\u001b[1;32m     76\u001b[0m         \u001b[0mself\u001b[0m\u001b[0;34m.\u001b[0m\u001b[0mbg_image\u001b[0m \u001b[0;34m=\u001b[0m \u001b[0;32mNone\u001b[0m\u001b[0;34m\u001b[0m\u001b[0m\n",
      "\u001b[0;32m~/.local/lib/python3.7/site-packages/PIL/ImageFont.py\u001b[0m in \u001b[0;36mtruetype\u001b[0;34m(font, size, index, encoding, layout_engine)\u001b[0m\n\u001b[1;32m    974\u001b[0m \u001b[0;34m\u001b[0m\u001b[0m\n\u001b[1;32m    975\u001b[0m     \u001b[0;32mtry\u001b[0m\u001b[0;34m:\u001b[0m\u001b[0;34m\u001b[0m\u001b[0m\n\u001b[0;32m--> 976\u001b[0;31m         \u001b[0;32mreturn\u001b[0m \u001b[0mfreetype\u001b[0m\u001b[0;34m(\u001b[0m\u001b[0mfont\u001b[0m\u001b[0;34m)\u001b[0m\u001b[0;34m\u001b[0m\u001b[0m\n\u001b[0m\u001b[1;32m    977\u001b[0m     \u001b[0;32mexcept\u001b[0m \u001b[0mOSError\u001b[0m\u001b[0;34m:\u001b[0m\u001b[0;34m\u001b[0m\u001b[0m\n\u001b[1;32m    978\u001b[0m         \u001b[0;32mif\u001b[0m \u001b[0;32mnot\u001b[0m \u001b[0mis_path\u001b[0m\u001b[0;34m(\u001b[0m\u001b[0mfont\u001b[0m\u001b[0;34m)\u001b[0m\u001b[0;34m:\u001b[0m\u001b[0;34m\u001b[0m\u001b[0m\n",
      "\u001b[0;32m~/.local/lib/python3.7/site-packages/PIL/ImageFont.py\u001b[0m in \u001b[0;36mfreetype\u001b[0;34m(font)\u001b[0m\n\u001b[1;32m    971\u001b[0m \u001b[0;34m\u001b[0m\u001b[0m\n\u001b[1;32m    972\u001b[0m     \u001b[0;32mdef\u001b[0m \u001b[0mfreetype\u001b[0m\u001b[0;34m(\u001b[0m\u001b[0mfont\u001b[0m\u001b[0;34m)\u001b[0m\u001b[0;34m:\u001b[0m\u001b[0;34m\u001b[0m\u001b[0m\n\u001b[0;32m--> 973\u001b[0;31m         \u001b[0;32mreturn\u001b[0m \u001b[0mFreeTypeFont\u001b[0m\u001b[0;34m(\u001b[0m\u001b[0mfont\u001b[0m\u001b[0;34m,\u001b[0m \u001b[0msize\u001b[0m\u001b[0;34m,\u001b[0m \u001b[0mindex\u001b[0m\u001b[0;34m,\u001b[0m \u001b[0mencoding\u001b[0m\u001b[0;34m,\u001b[0m \u001b[0mlayout_engine\u001b[0m\u001b[0;34m)\u001b[0m\u001b[0;34m\u001b[0m\u001b[0m\n\u001b[0m\u001b[1;32m    974\u001b[0m \u001b[0;34m\u001b[0m\u001b[0m\n\u001b[1;32m    975\u001b[0m     \u001b[0;32mtry\u001b[0m\u001b[0;34m:\u001b[0m\u001b[0;34m\u001b[0m\u001b[0m\n",
      "\u001b[0;32m~/.local/lib/python3.7/site-packages/PIL/ImageFont.py\u001b[0m in \u001b[0;36m__init__\u001b[0;34m(self, font, size, index, encoding, layout_engine)\u001b[0m\n\u001b[1;32m    219\u001b[0m         \u001b[0;32mif\u001b[0m \u001b[0mlayout_engine\u001b[0m \u001b[0;32mnot\u001b[0m \u001b[0;32min\u001b[0m \u001b[0;34m(\u001b[0m\u001b[0mLayout\u001b[0m\u001b[0;34m.\u001b[0m\u001b[0mBASIC\u001b[0m\u001b[0;34m,\u001b[0m \u001b[0mLayout\u001b[0m\u001b[0;34m.\u001b[0m\u001b[0mRAQM\u001b[0m\u001b[0;34m)\u001b[0m\u001b[0;34m:\u001b[0m\u001b[0;34m\u001b[0m\u001b[0m\n\u001b[1;32m    220\u001b[0m             \u001b[0mlayout_engine\u001b[0m \u001b[0;34m=\u001b[0m \u001b[0mLayout\u001b[0m\u001b[0;34m.\u001b[0m\u001b[0mBASIC\u001b[0m\u001b[0;34m\u001b[0m\u001b[0m\n\u001b[0;32m--> 221\u001b[0;31m             \u001b[0;32mif\u001b[0m \u001b[0mcore\u001b[0m\u001b[0;34m.\u001b[0m\u001b[0mHAVE_RAQM\u001b[0m\u001b[0;34m:\u001b[0m\u001b[0;34m\u001b[0m\u001b[0m\n\u001b[0m\u001b[1;32m    222\u001b[0m                 \u001b[0mlayout_engine\u001b[0m \u001b[0;34m=\u001b[0m \u001b[0mLayout\u001b[0m\u001b[0;34m.\u001b[0m\u001b[0mRAQM\u001b[0m\u001b[0;34m\u001b[0m\u001b[0m\n\u001b[1;32m    223\u001b[0m         \u001b[0;32melif\u001b[0m \u001b[0mlayout_engine\u001b[0m \u001b[0;34m==\u001b[0m \u001b[0mLayout\u001b[0m\u001b[0;34m.\u001b[0m\u001b[0mRAQM\u001b[0m \u001b[0;32mand\u001b[0m \u001b[0;32mnot\u001b[0m \u001b[0mcore\u001b[0m\u001b[0;34m.\u001b[0m\u001b[0mHAVE_RAQM\u001b[0m\u001b[0;34m:\u001b[0m\u001b[0;34m\u001b[0m\u001b[0m\n",
      "\u001b[0;32m~/.local/lib/python3.7/site-packages/PIL/ImageFont.py\u001b[0m in \u001b[0;36m__getattr__\u001b[0;34m(self, id)\u001b[0m\n\u001b[1;32m     56\u001b[0m     \u001b[0;31m# module placeholder\u001b[0m\u001b[0;34m\u001b[0m\u001b[0;34m\u001b[0m\u001b[0m\n\u001b[1;32m     57\u001b[0m     \u001b[0;32mdef\u001b[0m \u001b[0m__getattr__\u001b[0m\u001b[0;34m(\u001b[0m\u001b[0mself\u001b[0m\u001b[0;34m,\u001b[0m \u001b[0mid\u001b[0m\u001b[0;34m)\u001b[0m\u001b[0;34m:\u001b[0m\u001b[0;34m\u001b[0m\u001b[0m\n\u001b[0;32m---> 58\u001b[0;31m         \u001b[0;32mraise\u001b[0m \u001b[0mImportError\u001b[0m\u001b[0;34m(\u001b[0m\u001b[0;34m\"The _imagingft C module is not installed\"\u001b[0m\u001b[0;34m)\u001b[0m\u001b[0;34m\u001b[0m\u001b[0m\n\u001b[0m\u001b[1;32m     59\u001b[0m \u001b[0;34m\u001b[0m\u001b[0m\n\u001b[1;32m     60\u001b[0m \u001b[0;34m\u001b[0m\u001b[0m\n",
      "\u001b[0;31mImportError\u001b[0m: The _imagingft C module is not installed"
     ]
    }
   ],
   "source": [
    "create_dataset()"
   ]
  },
  {
   "cell_type": "code",
   "execution_count": null,
   "metadata": {},
   "outputs": [
    {
     "name": "stdout",
     "output_type": "stream",
     "text": [
      "WARNING: pip is being invoked by an old script wrapper. This will fail in a future version of pip.\n",
      "Please see https://github.com/pypa/pip/issues/5599 for advice on fixing the underlying issue.\n",
      "To avoid this problem you can invoke Python with '-m pip' instead of running pip directly.\n",
      "Found existing installation: Pillow 9.3.0\n",
      "Uninstalling Pillow-9.3.0:\n",
      "  Would remove:\n",
      "    /home1/08823/msrodlab/.local/lib/python3.7/site-packages/PIL/*\n",
      "    /home1/08823/msrodlab/.local/lib/python3.7/site-packages/Pillow-9.3.0.dist-info/*\n",
      "Proceed (Y/n)? "
     ]
    }
   ],
   "source": [
    "!pip uninstall pillow"
   ]
  }
 ],
 "metadata": {
  "colab": {
   "provenance": []
  },
  "kernelspec": {
   "display_name": "Python 3",
   "language": "python",
   "name": "python3"
  },
  "language_info": {
   "codemirror_mode": {
    "name": "ipython",
    "version": 3
   },
   "file_extension": ".py",
   "mimetype": "text/x-python",
   "name": "python",
   "nbconvert_exporter": "python",
   "pygments_lexer": "ipython3",
   "version": "3.7.0"
  }
 },
 "nbformat": 4,
 "nbformat_minor": 1
}
