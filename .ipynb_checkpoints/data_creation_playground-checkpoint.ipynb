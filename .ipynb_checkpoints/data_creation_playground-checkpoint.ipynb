{
 "cells": [
  {
   "cell_type": "code",
   "execution_count": 1,
   "metadata": {},
   "outputs": [
    {
     "name": "stdout",
     "output_type": "stream",
     "text": [
      "/work/08823/msrodlab/maverick2/font-diffusion\n",
      "WARNING: pip is being invoked by an old script wrapper. This will fail in a future version of pip.\n",
      "Please see https://github.com/pypa/pip/issues/5599 for advice on fixing the underlying issue.\n",
      "To avoid this problem you can invoke Python with '-m pip' instead of running pip directly.\n",
      "Defaulting to user installation because normal site-packages is not writeable\n",
      "Requirement already satisfied: numpy in /home1/08823/msrodlab/.local/lib/python3.7/site-packages (from -r ./requirements.txt (line 1)) (1.21.6)\n",
      "Requirement already satisfied: fontpreview in /home1/08823/msrodlab/.local/lib/python3.7/site-packages (from -r ./requirements.txt (line 2)) (1.2.0)\n",
      "Requirement already satisfied: pandas in /opt/apps/intel18/python3/3.7.0/lib/python3.7/site-packages (from -r ./requirements.txt (line 3)) (0.24.1)\n",
      "Requirement already satisfied: requests in /home1/08823/msrodlab/.local/lib/python3.7/site-packages (from -r ./requirements.txt (line 4)) (2.28.2)\n",
      "Requirement already satisfied: tqdm in /home1/08823/msrodlab/.local/lib/python3.7/site-packages (from -r ./requirements.txt (line 5)) (4.64.1)\n",
      "Requirement already satisfied: vit-pytorch in /home1/08823/msrodlab/.local/lib/python3.7/site-packages (from -r ./requirements.txt (line 6)) (1.2.0)\n",
      "Requirement already satisfied: uuid in /home1/08823/msrodlab/.local/lib/python3.7/site-packages (from -r ./requirements.txt (line 7)) (1.30)\n",
      "Requirement already satisfied: Pillow in /home1/08823/msrodlab/.local/lib/python3.7/site-packages (from fontpreview->-r ./requirements.txt (line 2)) (9.4.0)\n",
      "Requirement already satisfied: python-dateutil>=2.5.0 in /opt/apps/intel18/python3/3.7.0/lib/python3.7/site-packages (from pandas->-r ./requirements.txt (line 3)) (2.8.0)\n",
      "Requirement already satisfied: pytz>=2011k in /opt/apps/intel18/python3/3.7.0/lib/python3.7/site-packages (from pandas->-r ./requirements.txt (line 3)) (2018.9)\n",
      "Requirement already satisfied: certifi>=2017.4.17 in /opt/apps/intel18/python3/3.7.0/lib/python3.7/site-packages (from requests->-r ./requirements.txt (line 4)) (2018.11.29)\n",
      "Requirement already satisfied: idna<4,>=2.5 in /home1/08823/msrodlab/.local/lib/python3.7/site-packages (from requests->-r ./requirements.txt (line 4)) (3.4)\n",
      "Requirement already satisfied: charset-normalizer<4,>=2 in /home1/08823/msrodlab/.local/lib/python3.7/site-packages (from requests->-r ./requirements.txt (line 4)) (3.0.1)\n",
      "Requirement already satisfied: urllib3<1.27,>=1.21.1 in /home1/08823/msrodlab/.local/lib/python3.7/site-packages (from requests->-r ./requirements.txt (line 4)) (1.26.12)\n",
      "Requirement already satisfied: torchvision in /home1/08823/msrodlab/.local/lib/python3.7/site-packages (from vit-pytorch->-r ./requirements.txt (line 6)) (0.14.1)\n",
      "Requirement already satisfied: torch>=1.10 in /home1/08823/msrodlab/.local/lib/python3.7/site-packages (from vit-pytorch->-r ./requirements.txt (line 6)) (1.13.1)\n",
      "Requirement already satisfied: einops>=0.6.0 in /home1/08823/msrodlab/.local/lib/python3.7/site-packages (from vit-pytorch->-r ./requirements.txt (line 6)) (0.6.0)\n",
      "Requirement already satisfied: six>=1.5 in /opt/apps/intel18/python3/3.7.0/lib/python3.7/site-packages (from python-dateutil>=2.5.0->pandas->-r ./requirements.txt (line 3)) (1.12.0)\n",
      "Requirement already satisfied: typing-extensions in /home1/08823/msrodlab/.local/lib/python3.7/site-packages (from torch>=1.10->vit-pytorch->-r ./requirements.txt (line 6)) (4.4.0)\n",
      "Requirement already satisfied: nvidia-cuda-runtime-cu11==11.7.99 in /home1/08823/msrodlab/.local/lib/python3.7/site-packages (from torch>=1.10->vit-pytorch->-r ./requirements.txt (line 6)) (11.7.99)\n",
      "Requirement already satisfied: nvidia-cublas-cu11==11.10.3.66 in /home1/08823/msrodlab/.local/lib/python3.7/site-packages (from torch>=1.10->vit-pytorch->-r ./requirements.txt (line 6)) (11.10.3.66)\n",
      "Requirement already satisfied: nvidia-cudnn-cu11==8.5.0.96 in /home1/08823/msrodlab/.local/lib/python3.7/site-packages (from torch>=1.10->vit-pytorch->-r ./requirements.txt (line 6)) (8.5.0.96)\n",
      "Requirement already satisfied: nvidia-cuda-nvrtc-cu11==11.7.99 in /home1/08823/msrodlab/.local/lib/python3.7/site-packages (from torch>=1.10->vit-pytorch->-r ./requirements.txt (line 6)) (11.7.99)\n",
      "Requirement already satisfied: setuptools in /opt/apps/intel18/python3/3.7.0/lib/python3.7/site-packages (from nvidia-cublas-cu11==11.10.3.66->torch>=1.10->vit-pytorch->-r ./requirements.txt (line 6)) (41.0.1)\n",
      "Requirement already satisfied: wheel in /home1/08823/msrodlab/.local/lib/python3.7/site-packages (from nvidia-cublas-cu11==11.10.3.66->torch>=1.10->vit-pytorch->-r ./requirements.txt (line 6)) (0.38.2)\n",
      "\n",
      "\u001b[1m[\u001b[0m\u001b[34;49mnotice\u001b[0m\u001b[1;39;49m]\u001b[0m\u001b[39;49m A new release of pip available: \u001b[0m\u001b[31;49m22.3.1\u001b[0m\u001b[39;49m -> \u001b[0m\u001b[32;49m23.0.1\u001b[0m\n",
      "\u001b[1m[\u001b[0m\u001b[34;49mnotice\u001b[0m\u001b[1;39;49m]\u001b[0m\u001b[39;49m To update, run: \u001b[0m\u001b[32;49mpip install --upgrade pip\u001b[0m\n"
     ]
    }
   ],
   "source": [
    "!pwd\n",
    "!pip install -r ./requirements.txt"
   ]
  },
  {
   "cell_type": "markdown",
   "metadata": {},
   "source": [
    "# Dataset creation. Run during first time setup"
   ]
  },
  {
   "cell_type": "code",
   "execution_count": 6,
   "metadata": {
    "colab": {
     "base_uri": "https://localhost:8080/"
    },
    "id": "yI-JEVVPUxhQ",
    "outputId": "548bbe3e-42b9-4a07-f874-d57592a44785"
   },
   "outputs": [],
   "source": [
    "import os\n",
    "import string\n",
    "import csv\n",
    "from fontpreview import FontPreview\n",
    "import pandas as pd\n",
    "import requests\n",
    "import io\n",
    "from zipfile import ZipFile\n",
    "import json\n",
    "import shutil\n",
    "import uuid\n",
    "from tqdm.notebook import tqdm\n",
    "from datasets import load_dataset, Image\n",
    "from fontTools.ttLib import TTFont\n",
    "from fontTools.unicode import Unicode\n",
    "\n",
    "\n",
    "def has_glyph(font, glyph):\n",
    "    for table in font['cmap'].tables:\n",
    "        if ord(glyph) in table.cmap.keys():\n",
    "            return True\n",
    "    return False\n",
    "\n",
    "#For a given font file, create the alphabet and the numbers 0-9\n",
    "def create_alphabet(font_file, image_folder):\n",
    "    font = FontPreview(font_file)\n",
    "    ttf_font = TTFont(font_file)\n",
    "    font_name = font.font.getname()[0]\n",
    "    included_chars = []\n",
    "    for char in string.ascii_letters:\n",
    "        if has_glyph(ttf_font, char):\n",
    "            included_chars.append(char)\n",
    "    for char in string.digits:\n",
    "        if has_glyph(ttf_font, char):\n",
    "            included_chars.append(char)\n",
    "    split_folder = 'train'\n",
    "    if len(included_chars) != 62:\n",
    "        split_folder = 'test'\n",
    "        \n",
    "        \n",
    "    save_path = os.path.join(image_folder, split_folder, font_name)\n",
    "    if not os.path.exists(save_path):\n",
    "        os.makedirs(save_path)\n",
    "    for char in included_chars:\n",
    "        font.font_text = char\n",
    "        font.bg_color = (0, 0, 0)  # white BG\n",
    "        font.dimension = (512, 512)  # Dimension consistent with the default resolution for diffusion models\n",
    "        font.fg_color = (255, 255, 255)  # Letter color\n",
    "        font.set_font_size(300)  # font size ~ 300 pixels\n",
    "        font.set_text_position('center')  # center placement\n",
    "\n",
    "        if char in string.ascii_lowercase:\n",
    "            image_file_name = 'lower_' + char + '.jpg'\n",
    "        elif char in string.ascii_uppercase:\n",
    "            image_file_name = 'upper_' + char + '.jpg'\n",
    "        else:\n",
    "            image_file_name = char + '.jpg'\n",
    "        font.save(os.path.join(save_path, image_file_name))\n",
    "\n",
    "def create_alphabet_for_each_ttf():\n",
    "    TTF_DIR = os.path.join(os.path.abspath(os.getcwd()), 'ttf-files')\n",
    "    IMG_DIR = os.path.join(os.path.abspath(os.getcwd()), 'font-images')\n",
    "    if not os.path.exists(IMG_DIR):\n",
    "        os.mkdir(IMG_DIR)\n",
    "    fnames = os.listdir(TTF_DIR)\n",
    "\n",
    "    for fname in tqdm(fnames):\n",
    "        TTF_PATH = os.path.join(TTF_DIR, fname)\n",
    "        create_alphabet(TTF_PATH, IMG_DIR)\n",
    "\n",
    "    \n",
    "\n",
    "#Uses pandas to read through the CSV from sheets without the need of constantly redownloading\n",
    "def get_font_ttfs():\n",
    "    # Read the CSV file into a Pandas DataFrame\n",
    "    df = pd.read_csv('font_dataset.csv')\n",
    "    # Create data folder if it does not exist\n",
    "    if not os.path.exists('ttf-files'):\n",
    "        os.makedirs('ttf-files')\n",
    "    # Loop through each row of the DataFrame\n",
    "    for index, row in tqdm(df.iterrows()):\n",
    "        # Get the link and filename for the current row\n",
    "        link = row['Link']\n",
    "        filename = row['Filename']\n",
    "        if os.path.exists(os.path.join('ttf-files', filename)):\n",
    "            continue\n",
    "            \n",
    "        \n",
    "        # Download the zip file from the link\n",
    "        response = requests.get(link, stream=True)\n",
    "        with open('temp.zip', 'wb') as temp_file:\n",
    "            shutil.copyfileobj(response.raw, temp_file)\n",
    "        del response\n",
    "        \n",
    "        # Unzip the downloaded file\n",
    "        with ZipFile('temp.zip', 'r') as zip_file:\n",
    "            zip_file.extract(filename)\n",
    "            \n",
    "        # Move the file to the data folder\n",
    "        source_path = os.path.join(os.getcwd(), filename)\n",
    "        dest_path = os.path.join(os.getcwd(), 'ttf-files', filename)\n",
    "        shutil.move(source_path, dest_path)\n",
    "        \n",
    "        # Remove the temporary zip file\n",
    "        os.remove('temp.zip')\n",
    "\n",
    "\n",
    "#Create the jsonl file and training folder for the images\n",
    "def create_dataset():\n",
    "    FONT_IMAGE_PATH = os.path.join(os.getcwd(), 'font-images')\n",
    "    assert os.path.exists(FONT_IMAGE_PATH)\n",
    "    TTF_PATH = os.path.join(os.getcwd(), 'ttf-files')\n",
    "    assert os.path.exists(TTF_PATH)\n",
    "    CSV_PATH = os.path.join(os.getcwd(), 'font_dataset.csv')\n",
    "\n",
    "    \n",
    "    # Step 1: Initialize the json file\n",
    "    # Step 2: Loop through the Dataframe, for each row the Filename column corresponds to the actual\n",
    "    #         folder name in 'font_images'.\n",
    "    # Step 3: For each image in the respective folder, copy it over to the training folder (renaming it) and add its entry\n",
    "    #         to the jsonl file\n",
    "\n",
    "    #Step 1\n",
    "    json_metadata = []\n",
    "    # if not os.path.exists(training_data_path):\n",
    "    #     os.makedirs(training_data_path)\n",
    "\n",
    "\n",
    "    #Step 2\n",
    "    df = pd.read_csv(CSV_PATH)\n",
    "    dataset = {'test':[], 'train': []}\n",
    "    head = df.head()\n",
    "    for idx, row_data in df.iterrows():\n",
    "        ttf_path = os.path.join(TTF_PATH, row_data['Filename'])\n",
    "        font_img_dir = FontPreview(ttf_path).font.getname()[0]\n",
    "        split_folder = 'train'\n",
    "        font_img_dir_path = os.path.join(FONT_IMAGE_PATH, split_folder, font_img_dir)\n",
    "        if not os.path.exists(font_img_dir_path):\n",
    "            split_folder = 'test'\n",
    "            font_img_dir_path = os.path.join(FONT_IMAGE_PATH, split_folder, font_img_dir)\n",
    "        font_img_paths = [os.path.join(font_img_dir_path, fname) for fname in os.listdir(font_img_dir_path)]\n",
    "        included_chars = [cur_img_path.split('/')[-1].split('.')[0] for cur_img_path in font_img_paths]\n",
    "        json_data_row = {\n",
    "            'uniqueId': str(uuid.uuid4()),\n",
    "            'font_img_paths': font_img_paths,\n",
    "            'ttf_path': ttf_path,\n",
    "            'font_characteristics': row_data['Descriptors'], \n",
    "            'chars': included_chars,\n",
    "            'font_properties': {\n",
    "                'font_weight': row_data['Weight'], \n",
    "                'rounding': row_data['Courner Rounding'], \n",
    "                'font_serifs': row_data['Serif'],\n",
    "                'width': row_data['Width'],\n",
    "                'capitals': row_data['Capitals'],\n",
    "                'dynamics': row_data['Dynamics'] \n",
    "            }\n",
    "        }\n",
    "        dataset[split_folder].append(json_data_row)\n",
    "    #Create the jsonl file\n",
    "    with open('metadata.jsonl', 'w') as f:\n",
    "        json.dump(dataset, f)\n",
    "\n",
    "\n",
    "\n",
    "\n",
    "# if __name__ == '__main__':\n",
    "    #get_fonts('font_files', 'font_images')\n",
    "    #create_dataset('font_images', 'font_files', 'train')\n"
   ]
  },
  {
   "cell_type": "code",
   "execution_count": 7,
   "metadata": {},
   "outputs": [],
   "source": [
    "create_dataset()"
   ]
  },
  {
   "cell_type": "code",
   "execution_count": 5,
   "metadata": {},
   "outputs": [
    {
     "name": "stdout",
     "output_type": "stream",
     "text": [
      "Downloading and preparing dataset json/default to /home1/08823/msrodlab/.cache/huggingface/datasets/json/default-10ea592188ad1416/0.0.0/fe5dd6ea2639a6df622901539cb550cf8797e5a6b2dd7af1cf934bed8e233e6e...\n"
     ]
    },
    {
     "data": {
      "application/vnd.jupyter.widget-view+json": {
       "model_id": "dc13d61973fe4d308fcab2bcacd3d420",
       "version_major": 2,
       "version_minor": 0
      },
      "text/plain": [
       "Downloading data files:   0%|          | 0/1 [00:00<?, ?it/s]"
      ]
     },
     "metadata": {},
     "output_type": "display_data"
    },
    {
     "data": {
      "application/vnd.jupyter.widget-view+json": {
       "model_id": "d66757307370413fabeaff1551bf3bda",
       "version_major": 2,
       "version_minor": 0
      },
      "text/plain": [
       "Extracting data files:   0%|          | 0/1 [00:00<?, ?it/s]"
      ]
     },
     "metadata": {},
     "output_type": "display_data"
    },
    {
     "data": {
      "application/vnd.jupyter.widget-view+json": {
       "model_id": "",
       "version_major": 2,
       "version_minor": 0
      },
      "text/plain": [
       "Generating train split: 0 examples [00:00, ? examples/s]"
      ]
     },
     "metadata": {},
     "output_type": "display_data"
    },
    {
     "name": "stdout",
     "output_type": "stream",
     "text": [
      "Dataset json downloaded and prepared to /home1/08823/msrodlab/.cache/huggingface/datasets/json/default-10ea592188ad1416/0.0.0/fe5dd6ea2639a6df622901539cb550cf8797e5a6b2dd7af1cf934bed8e233e6e. Subsequent calls will reuse this data.\n"
     ]
    },
    {
     "data": {
      "application/vnd.jupyter.widget-view+json": {
       "model_id": "af9677cfbf7f48288fa176355ed6ad6b",
       "version_major": 2,
       "version_minor": 0
      },
      "text/plain": [
       "  0%|          | 0/1 [00:00<?, ?it/s]"
      ]
     },
     "metadata": {},
     "output_type": "display_data"
    }
   ],
   "source": []
  },
  {
   "cell_type": "code",
   "execution_count": 8,
   "metadata": {},
   "outputs": [
    {
     "data": {
      "application/vnd.jupyter.widget-view+json": {
       "model_id": "10d9f67afacf468fb275c1028b1b624d",
       "version_major": 2,
       "version_minor": 0
      },
      "text/plain": [
       "Resolving data files:   0%|          | 0/12728 [00:00<?, ?it/s]"
      ]
     },
     "metadata": {},
     "output_type": "display_data"
    },
    {
     "name": "stdout",
     "output_type": "stream",
     "text": [
      "Downloading and preparing dataset imagefolder/default to /home1/08823/msrodlab/.cache/huggingface/datasets/imagefolder/default-62dfb38bc3bc9dfe/0.0.0/37fbb85cc714a338bea574ac6c7d0b5be5aff46c1862c1989b20e0771199e93f...\n"
     ]
    },
    {
     "data": {
      "application/vnd.jupyter.widget-view+json": {
       "model_id": "f7201df3a31d4639b8d08620e4e9b7c1",
       "version_major": 2,
       "version_minor": 0
      },
      "text/plain": [
       "Downloading data files:   0%|          | 0/12728 [00:00<?, ?it/s]"
      ]
     },
     "metadata": {},
     "output_type": "display_data"
    },
    {
     "data": {
      "application/vnd.jupyter.widget-view+json": {
       "model_id": "64674d0f8d764977ad02a0d82ef8bffa",
       "version_major": 2,
       "version_minor": 0
      },
      "text/plain": [
       "Downloading data files: 0it [00:00, ?it/s]"
      ]
     },
     "metadata": {},
     "output_type": "display_data"
    },
    {
     "data": {
      "application/vnd.jupyter.widget-view+json": {
       "model_id": "f10ae17c09aa4c69921a645026f7b423",
       "version_major": 2,
       "version_minor": 0
      },
      "text/plain": [
       "Extracting data files: 0it [00:00, ?it/s]"
      ]
     },
     "metadata": {},
     "output_type": "display_data"
    },
    {
     "data": {
      "application/vnd.jupyter.widget-view+json": {
       "model_id": "",
       "version_major": 2,
       "version_minor": 0
      },
      "text/plain": [
       "Generating train split: 0 examples [00:00, ? examples/s]"
      ]
     },
     "metadata": {},
     "output_type": "display_data"
    },
    {
     "name": "stdout",
     "output_type": "stream",
     "text": [
      "Dataset imagefolder downloaded and prepared to /home1/08823/msrodlab/.cache/huggingface/datasets/imagefolder/default-62dfb38bc3bc9dfe/0.0.0/37fbb85cc714a338bea574ac6c7d0b5be5aff46c1862c1989b20e0771199e93f. Subsequent calls will reuse this data.\n"
     ]
    },
    {
     "data": {
      "application/vnd.jupyter.widget-view+json": {
       "model_id": "a5c5e57624874f1c815c40d2eb2e287f",
       "version_major": 2,
       "version_minor": 0
      },
      "text/plain": [
       "  0%|          | 0/1 [00:00<?, ?it/s]"
      ]
     },
     "metadata": {},
     "output_type": "display_data"
    }
   ],
   "source": []
  },
  {
   "cell_type": "code",
   "execution_count": 1,
   "metadata": {},
   "outputs": [],
   "source": []
  },
  {
   "cell_type": "code",
   "execution_count": 15,
   "metadata": {},
   "outputs": [
    {
     "data": {
      "text/plain": [
       "<matplotlib.image.AxesImage at 0x2b2ff12a6a90>"
      ]
     },
     "execution_count": 15,
     "metadata": {},
     "output_type": "execute_result"
    },
    {
     "data": {
      "image/png": "[encoded data removed]",
      "text/plain": [
       "<Figure size 640x480 with 1 Axes>"
      ]
     },
     "metadata": {},
     "output_type": "display_data"
    }
   ],
   "source": [
    "import matplotlib.pyplot as plt\n",
    "path='/work/08823/msrodlab/maverick2/font-diffusion/font-images/Rayman 2/lower_f.jpg'\n",
    "pil_im = Image.open(path, 'r')\n",
    "plt.imshow(pil_im)"
   ]
  },
  {
   "cell_type": "code",
   "execution_count": 3,
   "metadata": {},
   "outputs": [
    {
     "data": {
      "application/vnd.jupyter.widget-view+json": {
       "model_id": "55132c6e2b044265ae601159e8166c33",
       "version_major": 2,
       "version_minor": 0
      },
      "text/plain": [
       "0it [00:00, ?it/s]"
      ]
     },
     "metadata": {},
     "output_type": "display_data"
    }
   ],
   "source": [
    "get_font_ttfs()"
   ]
  },
  {
   "cell_type": "code",
   "execution_count": 64,
   "metadata": {},
   "outputs": [],
   "source": [
    "!rm -rf font-images"
   ]
  },
  {
   "cell_type": "code",
   "execution_count": 10,
   "metadata": {},
   "outputs": [
    {
     "data": {
      "application/vnd.jupyter.widget-view+json": {
       "model_id": "6b387e4ca57d4bb0802fe4952897c2db",
       "version_major": 2,
       "version_minor": 0
      },
      "text/plain": [
       "  0%|          | 0/208 [00:00<?, ?it/s]"
      ]
     },
     "metadata": {},
     "output_type": "display_data"
    }
   ],
   "source": [
    "# shouldnt run this on TACC, best to scp the files from your own computer\n",
    "# scp localhost/font-diffusion/font-images.tar <your_user>@maverick2.tacc.utexas.edu:\\$WORK/font-diffusion\n",
    "create_alphabet_for_each_ttf()"
   ]
  },
  {
   "cell_type": "code",
   "execution_count": 5,
   "metadata": {},
   "outputs": [
    {
     "ename": "NameError",
     "evalue": "name 'dataset' is not defined",
     "output_type": "error",
     "traceback": [
      "\u001b[0;31m---------------------------------------------------------------------------\u001b[0m",
      "\u001b[0;31mNameError\u001b[0m                                 Traceback (most recent call last)",
      "Cell \u001b[0;32mIn[5], line 1\u001b[0m\n\u001b[0;32m----> 1\u001b[0m \u001b[43mcreate_dataset\u001b[49m\u001b[43m(\u001b[49m\u001b[43m)\u001b[49m\n",
      "Cell \u001b[0;32mIn[4], line 157\u001b[0m, in \u001b[0;36mcreate_dataset\u001b[0;34m()\u001b[0m\n\u001b[1;32m    141\u001b[0m     included_chars \u001b[38;5;241m=\u001b[39m [cur_img_path\u001b[38;5;241m.\u001b[39msplit(\u001b[38;5;124m'\u001b[39m\u001b[38;5;124m/\u001b[39m\u001b[38;5;124m'\u001b[39m)[\u001b[38;5;241m-\u001b[39m\u001b[38;5;241m1\u001b[39m]\u001b[38;5;241m.\u001b[39msplit(\u001b[38;5;124m'\u001b[39m\u001b[38;5;124m.\u001b[39m\u001b[38;5;124m'\u001b[39m)[\u001b[38;5;241m0\u001b[39m] \u001b[38;5;28;01mfor\u001b[39;00m cur_img_path \u001b[38;5;129;01min\u001b[39;00m font_img_paths]\n\u001b[1;32m    142\u001b[0m     json_data_row \u001b[38;5;241m=\u001b[39m {\n\u001b[1;32m    143\u001b[0m         \u001b[38;5;124m'\u001b[39m\u001b[38;5;124muniqueId\u001b[39m\u001b[38;5;124m'\u001b[39m: \u001b[38;5;28mstr\u001b[39m(uuid\u001b[38;5;241m.\u001b[39muuid4()),\n\u001b[1;32m    144\u001b[0m         \u001b[38;5;124m'\u001b[39m\u001b[38;5;124mfont_img_paths\u001b[39m\u001b[38;5;124m'\u001b[39m: font_img_paths,\n\u001b[0;32m   (...)\u001b[0m\n\u001b[1;32m    155\u001b[0m         }\n\u001b[1;32m    156\u001b[0m     }\n\u001b[0;32m--> 157\u001b[0m     \u001b[43mdataset\u001b[49m[split_folder]\u001b[38;5;241m.\u001b[39mappend(json_data_row)\n\u001b[1;32m    158\u001b[0m \u001b[38;5;66;03m#Create the jsonl file\u001b[39;00m\n\u001b[1;32m    159\u001b[0m \u001b[38;5;28;01mwith\u001b[39;00m \u001b[38;5;28mopen\u001b[39m(\u001b[38;5;124m'\u001b[39m\u001b[38;5;124mmetadata.jsonl\u001b[39m\u001b[38;5;124m'\u001b[39m, \u001b[38;5;124m'\u001b[39m\u001b[38;5;124mw\u001b[39m\u001b[38;5;124m'\u001b[39m) \u001b[38;5;28;01mas\u001b[39;00m f:\n",
      "\u001b[0;31mNameError\u001b[0m: name 'dataset' is not defined"
     ]
    }
   ],
   "source": []
  },
  {
   "cell_type": "code",
   "execution_count": 1,
   "metadata": {},
   "outputs": [
    {
     "name": "stdout",
     "output_type": "stream",
     "text": [
      "Requirement already satisfied: datasets[vision] in /work/08823/msrodlab/miniconda3/lib/python3.9/site-packages (2.11.0)\n",
      "Requirement already satisfied: xxhash in /work/08823/msrodlab/miniconda3/lib/python3.9/site-packages (from datasets[vision]) (3.2.0)\n",
      "Requirement already satisfied: huggingface-hub<1.0.0,>=0.11.0 in /work/08823/msrodlab/miniconda3/lib/python3.9/site-packages (from datasets[vision]) (0.13.3)\n",
      "Requirement already satisfied: tqdm>=4.62.1 in /work/08823/msrodlab/miniconda3/lib/python3.9/site-packages (from datasets[vision]) (4.64.1)\n",
      "Requirement already satisfied: fsspec[http]>=2021.11.1 in /work/08823/msrodlab/miniconda3/lib/python3.9/site-packages (from datasets[vision]) (2023.3.0)\n",
      "Requirement already satisfied: aiohttp in /work/08823/msrodlab/miniconda3/lib/python3.9/site-packages (from datasets[vision]) (3.8.4)\n",
      "Requirement already satisfied: requests>=2.19.0 in /work/08823/msrodlab/miniconda3/lib/python3.9/site-packages (from datasets[vision]) (2.28.1)\n",
      "Requirement already satisfied: dill<0.3.7,>=0.3.0 in /work/08823/msrodlab/miniconda3/lib/python3.9/site-packages (from datasets[vision]) (0.3.6)\n",
      "Requirement already satisfied: packaging in /work/08823/msrodlab/miniconda3/lib/python3.9/site-packages (from datasets[vision]) (23.0)\n",
      "Requirement already satisfied: responses<0.19 in /work/08823/msrodlab/miniconda3/lib/python3.9/site-packages (from datasets[vision]) (0.18.0)\n",
      "Requirement already satisfied: pyyaml>=5.1 in /work/08823/msrodlab/miniconda3/lib/python3.9/site-packages (from datasets[vision]) (6.0)\n",
      "Requirement already satisfied: multiprocess in /work/08823/msrodlab/miniconda3/lib/python3.9/site-packages (from datasets[vision]) (0.70.14)\n",
      "Requirement already satisfied: numpy>=1.17 in /work/08823/msrodlab/miniconda3/lib/python3.9/site-packages (from datasets[vision]) (1.24.2)\n",
      "Requirement already satisfied: pandas in /work/08823/msrodlab/miniconda3/lib/python3.9/site-packages (from datasets[vision]) (1.5.3)\n",
      "Requirement already satisfied: pyarrow>=8.0.0 in /work/08823/msrodlab/miniconda3/lib/python3.9/site-packages (from datasets[vision]) (11.0.0)\n",
      "Requirement already satisfied: Pillow>=6.2.1 in /work/08823/msrodlab/miniconda3/lib/python3.9/site-packages (from datasets[vision]) (9.4.0)\n",
      "Requirement already satisfied: attrs>=17.3.0 in /work/08823/msrodlab/miniconda3/lib/python3.9/site-packages (from aiohttp->datasets[vision]) (22.2.0)\n",
      "Requirement already satisfied: frozenlist>=1.1.1 in /work/08823/msrodlab/miniconda3/lib/python3.9/site-packages (from aiohttp->datasets[vision]) (1.3.3)\n",
      "Requirement already satisfied: aiosignal>=1.1.2 in /work/08823/msrodlab/miniconda3/lib/python3.9/site-packages (from aiohttp->datasets[vision]) (1.3.1)\n",
      "Requirement already satisfied: multidict<7.0,>=4.5 in /work/08823/msrodlab/miniconda3/lib/python3.9/site-packages (from aiohttp->datasets[vision]) (6.0.4)\n",
      "Requirement already satisfied: async-timeout<5.0,>=4.0.0a3 in /work/08823/msrodlab/miniconda3/lib/python3.9/site-packages (from aiohttp->datasets[vision]) (4.0.2)\n",
      "Requirement already satisfied: charset-normalizer<4.0,>=2.0 in /work/08823/msrodlab/miniconda3/lib/python3.9/site-packages (from aiohttp->datasets[vision]) (2.0.4)\n",
      "Requirement already satisfied: yarl<2.0,>=1.0 in /work/08823/msrodlab/miniconda3/lib/python3.9/site-packages (from aiohttp->datasets[vision]) (1.8.2)\n",
      "Requirement already satisfied: typing-extensions>=3.7.4.3 in /work/08823/msrodlab/miniconda3/lib/python3.9/site-packages (from huggingface-hub<1.0.0,>=0.11.0->datasets[vision]) (4.5.0)\n",
      "Requirement already satisfied: filelock in /work/08823/msrodlab/miniconda3/lib/python3.9/site-packages (from huggingface-hub<1.0.0,>=0.11.0->datasets[vision]) (3.10.7)\n",
      "Requirement already satisfied: urllib3<1.27,>=1.21.1 in /work/08823/msrodlab/miniconda3/lib/python3.9/site-packages (from requests>=2.19.0->datasets[vision]) (1.26.14)\n",
      "Requirement already satisfied: idna<4,>=2.5 in /work/08823/msrodlab/miniconda3/lib/python3.9/site-packages (from requests>=2.19.0->datasets[vision]) (3.4)\n",
      "Requirement already satisfied: certifi>=2017.4.17 in /work/08823/msrodlab/miniconda3/lib/python3.9/site-packages (from requests>=2.19.0->datasets[vision]) (2022.12.7)\n",
      "Requirement already satisfied: python-dateutil>=2.8.1 in /work/08823/msrodlab/miniconda3/lib/python3.9/site-packages (from pandas->datasets[vision]) (2.8.2)\n",
      "Requirement already satisfied: pytz>=2020.1 in /work/08823/msrodlab/miniconda3/lib/python3.9/site-packages (from pandas->datasets[vision]) (2023.3)\n",
      "Requirement already satisfied: six>=1.5 in /work/08823/msrodlab/miniconda3/lib/python3.9/site-packages (from python-dateutil>=2.8.1->pandas->datasets[vision]) (1.16.0)\n"
     ]
    }
   ],
   "source": [
    "!pip install datasets[vision]"
   ]
  },
  {
   "cell_type": "code",
   "execution_count": 1,
   "metadata": {},
   "outputs": [
    {
     "ename": "NameError",
     "evalue": "name 'load_dataset' is not defined",
     "output_type": "error",
     "traceback": [
      "\u001b[0;31m---------------------------------------------------------------------------\u001b[0m",
      "\u001b[0;31mNameError\u001b[0m                                 Traceback (most recent call last)",
      "Cell \u001b[0;32mIn[1], line 1\u001b[0m\n\u001b[0;32m----> 1\u001b[0m dataset \u001b[38;5;241m=\u001b[39m \u001b[43mload_dataset\u001b[49m(\u001b[38;5;124m\"\u001b[39m\u001b[38;5;124mimagefolder\u001b[39m\u001b[38;5;124m\"\u001b[39m, data_dir\u001b[38;5;241m=\u001b[39m\u001b[38;5;124m\"\u001b[39m\u001b[38;5;124mfont-images\u001b[39m\u001b[38;5;124m\"\u001b[39m)\n",
      "\u001b[0;31mNameError\u001b[0m: name 'load_dataset' is not defined"
     ]
    }
   ],
   "source": [
    "dataset = load_dataset(\"imagefolder\", data_dir=\"font-images\")"
   ]
  }
 ],
 "metadata": {
  "colab": {
   "provenance": []
  },
  "kernelspec": {
   "display_name": "Python 3 (ipykernel)",
   "language": "python",
   "name": "python3"
  },
  "language_info": {
   "codemirror_mode": {
    "name": "ipython",
    "version": 3
   },
   "file_extension": ".py",
   "mimetype": "text/x-python",
   "name": "python",
   "nbconvert_exporter": "python",
   "pygments_lexer": "ipython3",
   "version": "3.9.16"
  }
 },
 "nbformat": 4,
 "nbformat_minor": 1
}
