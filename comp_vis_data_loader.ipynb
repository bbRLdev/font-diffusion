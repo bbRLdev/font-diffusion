{
  "cells": [
    {
      "cell_type": "code",
      "execution_count": null,
      "metadata": {
        "colab": {
          "base_uri": "https://localhost:8080/"
        },
        "id": "yI-JEVVPUxhQ",
        "outputId": "548bbe3e-42b9-4a07-f874-d57592a44785"
      },
      "outputs": [
        {
          "name": "stdout",
          "output_type": "stream",
          "text": [
            "Looking in indexes: https://pypi.org/simple, https://us-python.pkg.dev/colab-wheels/public/simple/\n",
            "Collecting fontpreview\n",
            "  Downloading fontpreview-1.2.0.tar.gz (16 kB)\n",
            "  Preparing metadata (setup.py) ... \u001b[?25l\u001b[?25hdone\n",
            "Requirement already satisfied: Pillow in /usr/local/lib/python3.9/dist-packages (from fontpreview) (8.4.0)\n",
            "Building wheels for collected packages: fontpreview\n",
            "  Building wheel for fontpreview (setup.py) ... \u001b[?25l\u001b[?25hdone\n",
            "  Created wheel for fontpreview: filename=fontpreview-1.2.0-py3-none-any.whl size=15635 sha256=f51b9e568168bbfe4c3f0ad6e4291242ab665537a3ecbd6554a9c30912aca115\n",
            "  Stored in directory: /root/.cache/pip/wheels/b5/e1/27/6279c204413c11bf3fc708b420da3d5858924b1c229d4eb384\n",
            "Successfully built fontpreview\n",
            "Installing collected packages: fontpreview\n",
            "Successfully installed fontpreview-1.2.0\n"
          ]
        }
      ],
      "source": [
        "!pip install fontpreview"
      ]
    },
    {
      "cell_type": "code",
      "execution_count": null,
      "metadata": {
        "colab": {
          "base_uri": "https://localhost:8080/"
        },
        "id": "17oscnQrVXAm",
        "outputId": "08771d68-a1ba-428a-a305-231413324b5f"
      },
      "outputs": [
        {
          "name": "stdout",
          "output_type": "stream",
          "text": [
            "/content\n"
          ]
        }
      ],
      "source": [
        "!pwd\n",
        "!cd sample_data/\n",
        "!mkdir fonts\n"
      ]
    },
    {
      "cell_type": "code",
      "execution_count": null,
      "metadata": {
        "colab": {
          "base_uri": "https://localhost:8080/"
        },
        "id": "cznNLFfYWBX7",
        "outputId": "22d2d97a-339b-49ea-c7d4-b48cb886230c"
      },
      "outputs": [
        {
          "name": "stdout",
          "output_type": "stream",
          "text": [
            "dl.dafont.com  fonts  sample_data\n"
          ]
        }
      ],
      "source": [
        "!ls"
      ]
    },
    {
      "cell_type": "code",
      "execution_count": null,
      "metadata": {
        "colab": {
          "base_uri": "https://localhost:8080/"
        },
        "id": "L2x_0__KVoiG",
        "outputId": "3cfffeef-5800-435f-bdeb-d39b609f91c1"
      },
      "outputs": [
        {
          "name": "stdout",
          "output_type": "stream",
          "text": [
            "--2023-03-29 17:10:14--  https://dl.dafont.com/dl/?f=alex_toth\n",
            "Resolving dl.dafont.com (dl.dafont.com)... 188.165.13.72\n",
            "Connecting to dl.dafont.com (dl.dafont.com)|188.165.13.72|:443... connected.\n",
            "HTTP request sent, awaiting response... 200 OK\n",
            "Length: 26310 (26K) [application/zip]\n",
            "Saving to: ‘dl.dafont.com/dl/index.html?f=alex_toth’\n",
            "\n",
            "dl.dafont.com/dl/in 100%[===================>]  25.69K  --.-KB/s    in 0.08s   \n",
            "\n",
            "2023-03-29 17:10:15 (309 KB/s) - ‘dl.dafont.com/dl/index.html?f=alex_toth’ saved [26310/26310]\n",
            "\n",
            "/content/fonts: Scheme missing.\n",
            "FINISHED --2023-03-29 17:10:15--\n",
            "Total wall clock time: 0.5s\n",
            "Downloaded: 1 files, 26K in 0.08s (309 KB/s)\n"
          ]
        }
      ],
      "source": [
        "!wget https://dl.dafont.com/dl/?f=alex_toth -p /content/fonts"
      ]
    },
    {
      "cell_type": "code",
      "execution_count": null,
      "metadata": {
        "id": "elZnyuW9Ud7N"
      },
      "outputs": [],
      "source": [
        "from fontpreview import FontPreview\n",
        "fp = FontPreview('/content/alex-toth.ttf')   # path of font file\n",
        "fp.save('/tmp/fp.png')              # default directory is working directory"
      ]
    },
    {
      "cell_type": "code",
      "execution_count": null,
      "metadata": {
        "id": "laEtYrwYUvz_"
      },
      "outputs": [],
      "source": [
        "fp.font_text = 'Welcome to fontpreview'\n",
        "fp.bg_color = (253, 194, 45)        # background color. RGB color: yellow\n",
        "fp.dimension = (300, 250)           # specify dimension in pixel: 300 x 250\n",
        "fp.fg_color = (51, 153, 193)        # foreground or font color. RGB color: blue\n",
        "fp.set_font_size(50)                # set font size to 50 pixel\n",
        "fp.set_text_position('ltop')        # place the text at the top left.\n",
        "# before saving the image, you need to draw it again\n",
        "fp.draw()\n",
        "fp.save('/tmp/fp.png')"
      ]
    },
    {
      "cell_type": "code",
      "execution_count": 1,
      "metadata": {
        "colab": {
          "base_uri": "https://localhost:8080/"
        },
        "id": "tX4AxOMmayVM",
        "outputId": "a8dc4a98-8fa2-47d5-8128-304e3bb896ce"
      },
      "outputs": [
        {
          "name": "stdout",
          "output_type": "stream",
          "text": [
            "Looking in indexes: https://pypi.org/simple, https://us-python.pkg.dev/colab-wheels/public/simple/\n",
            "\u001b[31mERROR: Could not find a version that satisfies the requirement io (from versions: none)\u001b[0m\u001b[31m\n",
            "\u001b[0m\u001b[31mERROR: No matching distribution found for io\u001b[0m\u001b[31m\n",
            "\u001b[0mLooking in indexes: https://pypi.org/simple, https://us-python.pkg.dev/colab-wheels/public/simple/\n",
            "Requirement already satisfied: requests in /usr/local/lib/python3.9/dist-packages (2.27.1)\n",
            "Requirement already satisfied: idna<4,>=2.5 in /usr/local/lib/python3.9/dist-packages (from requests) (3.4)\n",
            "Requirement already satisfied: urllib3<1.27,>=1.21.1 in /usr/local/lib/python3.9/dist-packages (from requests) (1.26.15)\n",
            "Requirement already satisfied: certifi>=2017.4.17 in /usr/local/lib/python3.9/dist-packages (from requests) (2022.12.7)\n",
            "Requirement already satisfied: charset-normalizer~=2.0.0 in /usr/local/lib/python3.9/dist-packages (from requests) (2.0.12)\n",
            "Looking in indexes: https://pypi.org/simple, https://us-python.pkg.dev/colab-wheels/public/simple/\n",
            "\u001b[31mERROR: Could not find a version that satisfies the requirement zipfile (from versions: none)\u001b[0m\u001b[31m\n",
            "\u001b[0m\u001b[31mERROR: No matching distribution found for zipfile\u001b[0m\u001b[31m\n",
            "\u001b[0m"
          ]
        }
      ],
      "source": [
        "!pip install io\n",
        "!pip install requests\n",
        "!pip install zipfile\n"
      ]
    },
    {
      "cell_type": "code",
      "execution_count": 3,
      "metadata": {
        "colab": {
          "base_uri": "https://localhost:8080/"
        },
        "id": "HfyBTQTubvJJ",
        "outputId": "c4de3f1c-42bd-4576-e64e-041a898742f8"
      },
      "outputs": [
        {
          "name": "stdout",
          "output_type": "stream",
          "text": [
            "Looking in indexes: https://pypi.org/simple, https://us-python.pkg.dev/colab-wheels/public/simple/\n",
            "Collecting bs4\n",
            "  Downloading bs4-0.0.1.tar.gz (1.1 kB)\n",
            "  Preparing metadata (setup.py) ... \u001b[?25l\u001b[?25hdone\n",
            "Requirement already satisfied: beautifulsoup4 in /usr/local/lib/python3.9/dist-packages (from bs4) (4.11.2)\n",
            "Requirement already satisfied: soupsieve>1.2 in /usr/local/lib/python3.9/dist-packages (from beautifulsoup4->bs4) (2.4)\n",
            "Building wheels for collected packages: bs4\n",
            "  Building wheel for bs4 (setup.py) ... \u001b[?25l\u001b[?25hdone\n",
            "  Created wheel for bs4: filename=bs4-0.0.1-py3-none-any.whl size=1270 sha256=7d089b0a0d2fd8223cc0469c76c013399fc5bf7092dfce7b9ff601d49051e5d6\n",
            "  Stored in directory: /root/.cache/pip/wheels/73/2b/cb/099980278a0c9a3e57ff1a89875ec07bfa0b6fcbebb9a8cad3\n",
            "Successfully built bs4\n",
            "Installing collected packages: bs4\n",
            "Successfully installed bs4-0.0.1\n"
          ]
        }
      ],
      "source": [
        "!pip install bs4"
      ]
    }
  ],
  "metadata": {
    "colab": {
      "provenance": []
    },
    "kernelspec": {
      "display_name": "Python 3",
      "name": "python3"
    },
    "language_info": {
      "name": "python"
    }
  },
  "nbformat": 4,
  "nbformat_minor": 0
}
